{
 "cells": [
  {
   "cell_type": "markdown",
   "metadata": {
    "id": "N7ujyF7t7ftU"
   },
   "source": [
    "# CIS 443-01 - Analytics Programming\n",
    "## Exam 3 Q2: Sentiment Analysis\n",
    "\n",
    "__Worth__: 10 pts.<br>\n",
    "__Naming convention__: The naming convention is as follows: Exam#, hyphen, question #, hyphen, lastname, and extension (e.g., Exam3-Q1-Im.ipynb)."
   ]
  },
  {
   "cell_type": "markdown",
   "metadata": {
    "id": "O3yW8iNL7ftY"
   },
   "source": [
    "### Instructions\n",
    "Read an article from the text file and create a TextBlob. Display the sentiment for the entire TextBlob and for each Sentence. The sentiment includes polarity and subjectivity. \n",
    "\n",
    "The text file “NYT_20231201.txt” contains an article from The New York Times titled “Kissinger’s Dirty Work Abroad Hurt America at Home, Too,” authored by Jamelle Bouie and published on December 1, 2023.\n",
    "\n",
    "### Hints\n",
    "Refer to chapter 12. \n",
    "\n",
    "### Requirements\n",
    "```\n",
    "a) Run the program with the correct text file name. \n",
    "b) Run the program with the incorrect text file name. In this case, the program should be able to handle the “FileNotFoundError” exception. \n",
    "c) Use the following to avoid encoding errors from the source file: \n",
    "        with open(file_name, 'r', newline='', encoding=\"cp437\", errors='ignore') as file:\n",
    "```\n",
    "\n",
    "### Outputs\n",
    "```\n",
    "a) Display the sentiment for the entire TextBlob and for each Sentence.\n",
    "```\n"
   ]
  },
  {
   "cell_type": "code",
   "execution_count": 33,
   "metadata": {
    "tags": []
   },
   "outputs": [
    {
     "name": "stdout",
     "output_type": "stream",
     "text": [
      "File not found\n"
     ]
    }
   ],
   "source": [
    "from textblob import TextBlob\n",
    "import nltk\n",
    "#nltk.download('punkt')\n",
    "\n",
    "correctFileName = \"NYT_20231201.txt\"\n",
    "incorrectFileName = \"wrong.txt\"\n",
    "\n",
    "try:\n",
    "    with open(incorrectFileName, 'r', newline='',encoding=\"cp437\",errors = 'ignore') as file:\n",
    "        text = file.read()\n",
    "        blob = TextBlob(text)\n",
    "        print(f\"Sentiment for whole passage:\\n {blob.sentiment}\")\n",
    "        sentences = blob.sentences\n",
    "        print(\"\\nSentiment for each sentence:\\n\")\n",
    "        for sentence in sentences:\n",
    "            print(sentence.sentiment)\n",
    "    \n",
    "except FileNotFoundError:\n",
    "    print(\"File not found\")"
   ]
  },
  {
   "cell_type": "code",
   "execution_count": 32,
   "metadata": {
    "id": "hbVAutvP7ftZ",
    "tags": []
   },
   "outputs": [
    {
     "name": "stdout",
     "output_type": "stream",
     "text": [
      "Sentiment for whole passage:\n",
      " Sentiment(polarity=0.0216047841047841, subjectivity=0.3135198135198135)\n",
      "\n",
      "Sentiment for each sentence:\n",
      "\n",
      "Sentiment(polarity=0.1, subjectivity=0.1)\n",
      "Sentiment(polarity=0.325, subjectivity=0.44166666666666665)\n",
      "Sentiment(polarity=-0.4, subjectivity=0.6)\n",
      "Sentiment(polarity=0.0, subjectivity=0.0)\n",
      "Sentiment(polarity=-0.040909090909090916, subjectivity=0.13863636363636364)\n",
      "Sentiment(polarity=-0.07499999999999996, subjectivity=0.725)\n",
      "Sentiment(polarity=0.0375, subjectivity=0.4916666666666667)\n",
      "Sentiment(polarity=-0.24375, subjectivity=0.275)\n",
      "Sentiment(polarity=0.0, subjectivity=0.25)\n",
      "Sentiment(polarity=-0.125, subjectivity=0.5)\n",
      "Sentiment(polarity=-0.025, subjectivity=0.21875)\n",
      "Sentiment(polarity=0.1, subjectivity=0.1)\n",
      "Sentiment(polarity=0.0, subjectivity=0.0)\n",
      "Sentiment(polarity=0.0, subjectivity=0.0625)\n",
      "Sentiment(polarity=0.2, subjectivity=0.30000000000000004)\n",
      "Sentiment(polarity=0.09375, subjectivity=0.15625)\n",
      "Sentiment(polarity=0.15833333333333333, subjectivity=0.48055555555555557)\n",
      "Sentiment(polarity=-0.15000000000000002, subjectivity=0.5)\n",
      "Sentiment(polarity=-0.16666666666666666, subjectivity=0.19999999999999998)\n",
      "Sentiment(polarity=0.08333333333333333, subjectivity=0.2333333333333333)\n",
      "Sentiment(polarity=0.1, subjectivity=0.2785714285714286)\n",
      "Sentiment(polarity=-0.013265306122448977, subjectivity=0.18707482993197275)\n",
      "Sentiment(polarity=-0.09722222222222222, subjectivity=0.20277777777777775)\n",
      "Sentiment(polarity=-0.25, subjectivity=0.3125)\n",
      "Sentiment(polarity=-0.25, subjectivity=0.3833333333333333)\n",
      "Sentiment(polarity=0.25, subjectivity=0.75)\n",
      "Sentiment(polarity=0.2777777777777778, subjectivity=0.35555555555555557)\n"
     ]
    }
   ],
   "source": [
    "from textblob import TextBlob\n",
    "import nltk\n",
    "#nltk.download('punkt')\n",
    "\n",
    "try:\n",
    "    with open(correctFileName, 'r', newline='',encoding=\"cp437\",errors = 'ignore') as file:\n",
    "        text = file.read()\n",
    "        blob = TextBlob(text)\n",
    "        print(f\"Sentiment for whole passage:\\n {blob.sentiment}\")\n",
    "        sentences = blob.sentences\n",
    "        print(\"\\nSentiment for each sentence:\\n\")\n",
    "        for sentence in sentences:\n",
    "            print(sentence.sentiment)\n",
    "    \n",
    "except FileNotFoundError:\n",
    "    print(\"File not found\")"
   ]
  },
  {
   "cell_type": "code",
   "execution_count": null,
   "metadata": {},
   "outputs": [],
   "source": []
  },
  {
   "cell_type": "code",
   "execution_count": null,
   "metadata": {},
   "outputs": [],
   "source": []
  }
 ],
 "metadata": {
  "colab": {
   "collapsed_sections": [],
   "name": "Lab1.ipynb",
   "provenance": []
  },
  "kernelspec": {
   "display_name": "Python 3 (ipykernel)",
   "language": "python",
   "name": "python3"
  },
  "language_info": {
   "codemirror_mode": {
    "name": "ipython",
    "version": 3
   },
   "file_extension": ".py",
   "mimetype": "text/x-python",
   "name": "python",
   "nbconvert_exporter": "python",
   "pygments_lexer": "ipython3",
   "version": "3.11.4"
  }
 },
 "nbformat": 4,
 "nbformat_minor": 4
}
