{
 "cells": [
  {
   "cell_type": "markdown",
   "metadata": {
    "id": "N7ujyF7t7ftU"
   },
   "source": [
    "# CIS 443-01 - Analytics Programming\n",
    "## Exam 3 Q1: Descriptive Statistics\n",
    "\n",
    "__Worth__: 10 pts.<br>\n",
    "__Naming convention__: The naming convention is as follows: Exam#, hyphen, question #, hyphen, lastname, and extension (e.g., Exam3-Q1-Im.ipynb)."
   ]
  },
  {
   "cell_type": "markdown",
   "metadata": {
    "id": "O3yW8iNL7ftY"
   },
   "source": [
    "### Instructions\n",
    "Use either the csv module or the Pandas library to read the data file and compute descriptive statistics for the columns 'math score,' 'reading score,' and 'writing score.’\n",
    "\n",
    "The csv file (StudentsPerformance.csv) is from the following website: http://roycekimmons.com/tools/generated_data/exams. \n",
    "\n",
    "### Requirements\n",
    "a)\tAvoid using the describe() function. Instead, compute each statistic individually using dedicated functions. \n",
    "b)\tSet the display precision to 3.\n",
    "\n",
    "### Outputs\n",
    "a)\tShow the median, standard deviation, mode, and median of the three columns. \n"
   ]
  },
  {
   "cell_type": "code",
   "execution_count": 62,
   "metadata": {
    "id": "hbVAutvP7ftZ",
    "tags": []
   },
   "outputs": [
    {
     "name": "stdout",
     "output_type": "stream",
     "text": [
      " Mean: \n",
      " 66.089  68.054  69.169  \n",
      " Median: \n",
      " 66.000  69.000  70.000  \n",
      " Mode: \n",
      " 65.000  74.000  72.000  \n",
      " Std: \n",
      " 15.163  15.196  14.600  \n"
     ]
    }
   ],
   "source": [
    "import pandas as pd\n",
    "\n",
    "data = pd.read_csv('StudentsPerformance(1).csv')\n",
    "\n",
    "meanstring = f\" Mean: \\n {data['math score'].mean():<8.3f}\" + f\"{data['writing score'].mean():<8.3f}\" + f\"{data['reading score'].mean():<8.3f}\" \n",
    "\n",
    "medianstring = f\" Median: \\n {data['math score'].median():<8.3f}\" + f\"{data['writing score'].median():<8.3f}\" + f\"{data['reading score'].median():<8.3f}\" \n",
    "\n",
    "modestring = f\" Mode: \\n {data['math score'].mode()[0]:<8.3f}\" + f\"{data['writing score'].mode()[0]:<8.3f}\" + f\"{data['reading score'].mode()[0]:<8.3f}\" \n",
    "\n",
    "stdstring = f\" Std: \\n {data['math score'].std():<8.3f}\" + f\"{data['writing score'].std():<8.3f}\" + f\"{data['reading score'].std():<8.3f}\" \n",
    "\n",
    "print(meanstring)\n",
    "print(medianstring)\n",
    "print(modestring)\n",
    "print(stdstring)\n",
    "\n"
   ]
  },
  {
   "cell_type": "code",
   "execution_count": null,
   "metadata": {},
   "outputs": [],
   "source": []
  }
 ],
 "metadata": {
  "colab": {
   "collapsed_sections": [],
   "name": "Lab1.ipynb",
   "provenance": []
  },
  "kernelspec": {
   "display_name": "Python 3 (ipykernel)",
   "language": "python",
   "name": "python3"
  },
  "language_info": {
   "codemirror_mode": {
    "name": "ipython",
    "version": 3
   },
   "file_extension": ".py",
   "mimetype": "text/x-python",
   "name": "python",
   "nbconvert_exporter": "python",
   "pygments_lexer": "ipython3",
   "version": "3.11.4"
  }
 },
 "nbformat": 4,
 "nbformat_minor": 4
}
