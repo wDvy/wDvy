{
 "cells": [
  {
   "cell_type": "markdown",
   "metadata": {
    "id": "N7ujyF7t7ftU"
   },
   "source": [
    "# CIS 443-01 - Analytics Programming\n",
    "## Exam 3 Q4: KFold Classification\n",
    "\n",
    "__Worth__: 10 pts.<br>\n",
    "__Naming convention__: The naming convention is as follows: Exam#, hyphen, question #, hyphen, lastname, and extension (e.g., Exam3-Q1-Im.ipynb)."
   ]
  },
  {
   "cell_type": "markdown",
   "metadata": {
    "id": "O3yW8iNL7ftY"
   },
   "source": [
    "### Instructions\n",
    "Using scikit-learn’s KFold class and cross_val_score function, determine the optimal k value for classifying Iris samples using a KNeighborsClassifier. Here, k refers to the number of neighbors. \n",
    "\n",
    "### Hints\n",
    "Refer to textbook pp. 616-. \n",
    "\n",
    "### Requirements\n",
    "```\n",
    "Use the following setting: \n",
    "    kf = KFold(n_splits=4, shuffle=True, random_state=12)\n",
    "\n",
    "Hint for the looping of k: \n",
    "    #Loop through each k value. Test k values from 1 to 20\n",
    "    for k in k_values:\n",
    "        knn = KNeighborsClassifier(n_neighbors=k)\n",
    "```\n",
    "\n",
    "### Outputs\n",
    "a)\tDisplay the optimal k value, mean accuracy, and accuracy standard deviation.\n"
   ]
  },
  {
   "cell_type": "code",
   "execution_count": 17,
   "metadata": {
    "id": "hbVAutvP7ftZ",
    "tags": []
   },
   "outputs": [],
   "source": [
    "from sklearn import datasets\n",
    "iris = datasets.load_iris()\n",
    "\n",
    "from sklearn.model_selection import KFold\n",
    "\n",
    "kfold = KFold(n_splits=4,random_state=12, shuffle=True)"
   ]
  },
  {
   "cell_type": "code",
   "execution_count": 20,
   "metadata": {
    "tags": []
   },
   "outputs": [
    {
     "data": {
      "text/plain": [
       "array([0.97368421, 0.94736842, 0.97297297, 0.94594595])"
      ]
     },
     "execution_count": 20,
     "metadata": {},
     "output_type": "execute_result"
    }
   ],
   "source": [
    "from sklearn.model_selection import cross_val_score\n",
    "from sklearn.neighbors import KNeighborsClassifier\n",
    "knn = KNeighborsClassifier()\n",
    "\n",
    "\n",
    "k_values = cross_val_score(estimator=knn, X=iris.data, y=iris.target, cv=kfold)\n",
    "\n",
    "k_values"
   ]
  },
  {
   "cell_type": "code",
   "execution_count": 31,
   "metadata": {
    "tags": []
   },
   "outputs": [
    {
     "name": "stdout",
     "output_type": "stream",
     "text": [
      "Mean Accuracy: 96.00%\n",
      "\n",
      "Accuracy Standard Deviation: 1.33% \n",
      "\n"
     ]
    }
   ],
   "source": [
    "print(f'Mean Accuracy: {scores.mean():.2%}\\n')\n",
    "\n",
    "print(f'Accuracy Standard Deviation: {scores.std():.2%} \\n')\n"
   ]
  },
  {
   "cell_type": "code",
   "execution_count": 30,
   "metadata": {
    "tags": []
   },
   "outputs": [
    {
     "name": "stdout",
     "output_type": "stream",
     "text": [
      "k=1 ; Mean Accuracy=96.00%; Standard Deviation = 1.33%\n",
      "k=3 ; Mean Accuracy=96.00%; Standard Deviation = 1.33%\n",
      "k=5 ; Mean Accuracy=96.00%; Standard Deviation = 1.33%\n",
      "k=7 ; Mean Accuracy=96.00%; Standard Deviation = 1.33%\n",
      "k=9 ; Mean Accuracy=97.35%; Standard Deviation = 1.86%\n",
      "k=11; Mean Accuracy=98.01%; Standard Deviation = 2.19%\n",
      "k=13; Mean Accuracy=97.35%; Standard Deviation = 1.86%\n",
      "k=15; Mean Accuracy=97.35%; Standard Deviation = 1.86%\n",
      "k=17; Mean Accuracy=96.67%; Standard Deviation = 1.12%\n",
      "k=19; Mean Accuracy=96.00%; Standard Deviation = 1.33%\n"
     ]
    }
   ],
   "source": [
    "for k in range(1,20,2):\n",
    "    kfold = KFold(n_splits=4,random_state=12, shuffle=True) \n",
    "    knn = KNeighborsClassifier(n_neighbors=k)\n",
    "    scores = cross_val_score(estimator=knn,\n",
    "        X=iris.data, y=iris.target, cv=kfold)\n",
    "    print(f\"k={k:<2}; Mean Accuracy={scores.mean():.2%}; Standard Deviation = {scores.std():.2%}\")"
   ]
  },
  {
   "cell_type": "markdown",
   "metadata": {},
   "source": []
  }
 ],
 "metadata": {
  "colab": {
   "collapsed_sections": [],
   "name": "Lab1.ipynb",
   "provenance": []
  },
  "kernelspec": {
   "display_name": "Python 3 (ipykernel)",
   "language": "python",
   "name": "python3"
  },
  "language_info": {
   "codemirror_mode": {
    "name": "ipython",
    "version": 3
   },
   "file_extension": ".py",
   "mimetype": "text/x-python",
   "name": "python",
   "nbconvert_exporter": "python",
   "pygments_lexer": "ipython3",
   "version": "3.11.4"
  }
 },
 "nbformat": 4,
 "nbformat_minor": 4
}
